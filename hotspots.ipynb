{
 "cells": [
  {
   "cell_type": "code",
   "execution_count": 3,
   "metadata": {},
   "outputs": [],
   "source": [
    "import geopandas as gpd\n",
    "import osmnx as ox\n",
    "import numpy as np\n",
    "from scipy.stats import gaussian_kde\n",
    "import matplotlib.pyplot as plt\n",
    "import contextily as ctx\n",
    "from sklearn.neighbors import KernelDensity\n"
   ]
  },
  {
   "cell_type": "code",
   "execution_count": 2,
   "metadata": {},
   "outputs": [],
   "source": [
    "# Step 1: Get Berlin Boundary\n",
    "berlin_boundary = ox.geocode_to_gdf(\"Berlin, Germany\")"
   ]
  },
  {
   "cell_type": "code",
   "execution_count": 3,
   "metadata": {},
   "outputs": [],
   "source": [
    "gdf = gpd.read_file('purchases.geojson')  # Replace with your GeoJSON file path"
   ]
  },
  {
   "cell_type": "code",
   "execution_count": 4,
   "metadata": {},
   "outputs": [],
   "source": [
    "gdf = gdf[gdf['BruttoSumme'].notnull() & (gdf['BruttoSumme'] > 0)]"
   ]
  },
  {
   "cell_type": "code",
   "execution_count": 5,
   "metadata": {},
   "outputs": [
    {
     "name": "stdout",
     "output_type": "stream",
     "text": [
      "Number of points after filtering/clipping: 943145\n"
     ]
    }
   ],
   "source": [
    "print(f\"Number of points after filtering/clipping: {len(gdf)}\")\n"
   ]
  },
  {
   "cell_type": "code",
   "execution_count": 6,
   "metadata": {},
   "outputs": [],
   "source": [
    "# Step 2: Reproject to Web Mercator\n",
    "gdf = gdf.to_crs(\"EPSG:3857\")  # Web Mercator projection for visualization"
   ]
  },
  {
   "cell_type": "code",
   "execution_count": 7,
   "metadata": {},
   "outputs": [],
   "source": [
    "# Step 3: Extract coordinates and weights for KDE\n",
    "coords = np.vstack([gdf.geometry.x, gdf.geometry.y])\n",
    "weights = gdf['BruttoSumme']  # Replace with the correct column name"
   ]
  },
  {
   "cell_type": "code",
   "execution_count": 8,
   "metadata": {},
   "outputs": [],
   "source": [
    "# Ensure no NaN or inf values\n",
    "valid_mask = np.isfinite(coords).all(axis=0) & np.isfinite(weights)\n",
    "coords = coords[:, valid_mask]\n",
    "weights = weights[valid_mask]"
   ]
  },
  {
   "cell_type": "code",
   "execution_count": 9,
   "metadata": {},
   "outputs": [],
   "source": [
    "# Step 5: Perform KDE\n",
    "kde = gaussian_kde(coords, weights = weights)\n",
    "xmin, ymin, xmax, ymax = berlin_boundary.total_bounds\n",
    "X, Y = np.meshgrid(np.linspace(xmin, xmax, 200), np.linspace(ymin, ymax, 200))\n",
    "positions = np.vstack([X.ravel(), Y.ravel()])\n",
    "Z = np.reshape(kde(positions).T, X.shape)"
   ]
  },
  {
   "cell_type": "code",
   "execution_count": null,
   "metadata": {},
   "outputs": [],
   "source": [
    "# Step 5: Plot KDE on the map\n",
    "fig, ax = plt.subplots(figsize=(12, 10))\n",
    "ax.imshow(Z, extent=[xmin, xmax, ymin, ymax], origin='lower', cmap='Reds', alpha=0.6)\n",
    "gdf.plot(ax=ax, markersize=1, color=\"blue\", alpha=0.5)  # Plot original points\n",
    "ctx.add_basemap(ax, source=ctx.providers.Stamen.TonerLite)  # Add basemap\n",
    "ax.set_title(\"Purchase Value Density (Valid Values Only)\")\n",
    "plt.colorbar(ax.imshow(Z, extent=[xmin, xmax, ymin, ymax], origin='lower', cmap='Reds', alpha=0.6), label='Density')\n",
    "plt.show()"
   ]
  },
  {
   "cell_type": "code",
   "execution_count": 4,
   "metadata": {},
   "outputs": [],
   "source": [
    "import geopandas as gpd\n",
    "import numpy as np\n",
    "from sklearn.neighbors import KernelDensity\n",
    "import folium\n",
    "from folium.plugins import HeatMap\n",
    "from shapely.geometry import box"
   ]
  },
  {
   "cell_type": "code",
   "execution_count": null,
   "metadata": {},
   "outputs": [],
   "source": []
  }
 ],
 "metadata": {
  "kernelspec": {
   "display_name": ".venv",
   "language": "python",
   "name": "python3"
  },
  "language_info": {
   "codemirror_mode": {
    "name": "ipython",
    "version": 3
   },
   "file_extension": ".py",
   "mimetype": "text/x-python",
   "name": "python",
   "nbconvert_exporter": "python",
   "pygments_lexer": "ipython3",
   "version": "3.12.3"
  }
 },
 "nbformat": 4,
 "nbformat_minor": 2
}
