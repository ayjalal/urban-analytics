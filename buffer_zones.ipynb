{
 "cells": [
  {
   "cell_type": "code",
   "execution_count": 1,
   "metadata": {},
   "outputs": [],
   "source": [
    "import geopandas as gpd\n",
    "import matplotlib.pyplot as plt"
   ]
  },
  {
   "cell_type": "code",
   "execution_count": 2,
   "metadata": {},
   "outputs": [],
   "source": [
    "# ===================== 1. Load Data ===================== #\n",
    "# Replace with the paths to your GeoJSON files\n",
    "purchases_path = \"purchases.geojson\"\n",
    "supermarket_path = \"supermarkets.geojson\""
   ]
  },
  {
   "cell_type": "code",
   "execution_count": 3,
   "metadata": {},
   "outputs": [],
   "source": [
    "# Load GeoJSON files into GeoDataFrames\n",
    "purchases_gdf = gpd.read_file(purchases_path)\n",
    "supermarket_gdf = gpd.read_file(supermarket_path)"
   ]
  },
  {
   "cell_type": "code",
   "execution_count": null,
   "metadata": {},
   "outputs": [],
   "source": [
    "# Define a bounding box (adjust coordinates for your region of interest)\n",
    "hotspot_bounds = gpd.GeoDataFrame(\n",
    "    geometry=[gpd.GeoSeries.box(minx, miny, maxx, maxy)],\n",
    "    crs=purchases_gdf.crs\n",
    ")\n",
    "\n",
    "# Filter purchases within the hotspot\n",
    "hotspot_purchases = purchases_gdf[purchases_gdf.within(hotspot_bounds.geometry[0])]\n"
   ]
  }
 ],
 "metadata": {
  "kernelspec": {
   "display_name": ".venv",
   "language": "python",
   "name": "python3"
  },
  "language_info": {
   "codemirror_mode": {
    "name": "ipython",
    "version": 3
   },
   "file_extension": ".py",
   "mimetype": "text/x-python",
   "name": "python",
   "nbconvert_exporter": "python",
   "pygments_lexer": "ipython3",
   "version": "3.12.3"
  }
 },
 "nbformat": 4,
 "nbformat_minor": 2
}
